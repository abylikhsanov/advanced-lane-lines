{
 "cells": [
  {
   "cell_type": "code",
   "execution_count": 1,
   "metadata": {
    "collapsed": true
   },
   "outputs": [],
   "source": [
    "import numpy as np\n",
    "import cv2\n",
    "import matplotlib.pyplot as plt\n",
    "import glob # To import all the calibration images"
   ]
  },
  {
   "cell_type": "code",
   "execution_count": null,
   "metadata": {
    "collapsed": true
   },
   "outputs": [],
   "source": [
    "class Lines():\n",
    "     def __init__(self,first=True,recent_xfitted=[],bestx=None,best_fit=None,current_fit=[np.array([False])],\n",
    "                 radius_of_curvature = None,\n",
    "                 line_base_pos = None,diffs = np.array([0,0,0], dtype='float'),allx = None,ally=None):\n",
    "        # was the line detected in the last iteration?\n",
    "        self.first = first\n",
    "        # x values of the last n fits of the line\n",
    "        self.recent_xfitted = recent_xfitted\n",
    "        #average x values of the fitted line over the last n iterations\n",
    "        self.bestx = bestx\n",
    "        #polynomial coefficients averaged over the last n iterations\n",
    "        self.best_fit = best_fit\n",
    "        #polynomial coefficients for the most recent fit\n",
    "        self.current_fit = current_fit\n",
    "        #radius of curvature of the line in some units\n",
    "        self.radius_of_curvature = radius_of_curvature\n",
    "        #distance in meters of vehicle center from the line\n",
    "        self.line_base_pos = line_base_pos\n",
    "        #difference in fit coefficients between last and new fits\n",
    "        self.diffs = diffs\n",
    "        #x values for detected line pixels\n",
    "        self.allx = allx\n",
    "        #y values for detected line pixels\n",
    "        self.ally = ally\n",
    "    def calibrate(objpoints,imgpoints):\n",
    "        objp = np.zeros((6*9,3), np.float32) \n",
    "        objp[:,:2] = np.mgrid[0:9, 0:6].T.reshape(-1,2)\n",
    "\n",
    "    # Make a list of calibration images\n",
    "        images = glob.glob('/Users/abylikhsanov1/AI/carnd/term1/advanced-lane-lines/camera_cal/calibration*.jpg') # Please update if needed\n",
    "        for fname in images:\n",
    "            image = cv2.imread(fname)\n",
    "            gray = cv2.cvtColor(image,cv2.COLOR_BGR2GRAY)\n",
    "            ret, corners = cv2.findChessboardCorners(gray, (9,6), None) # Finding any distorted pixel locations\n",
    "            if ret is True: # If we found any, we shall append the coordinates and the pixels itself\n",
    "                objpoints.append(objp)\n",
    "                imgpoints.append(corners)\n",
    "                cv2.drawChessboardCorners(image, (9,6), corners, ret)\n",
    "        cv2.destroyAllWindows()\n",
    "    def process_image(img):\n",
    "        %matplotlib inline\n",
    "    #img = cv2.imread('test_images/straight_lines1.jpg') # Now, let's undistort our first road image\n",
    "    #img = cv2.cvtColor(img,cv2.COLOR_BGR2RGB)\n",
    "        fig,(ax1) = plt.subplots(1,1,figsize=(10,5))\n",
    "        ax1.imshow(img)\n",
    "    # Calibrating and removing the distortion\n",
    "        img_size = (img.shape[1],img.shape[0]) # We are making img_size[0] as x axis values and [1] as y axis\n",
    "        ret, mtx, dist, rvecs, tvecs = cv2.calibrateCamera(objpoints, imgpoints,img_size,None,None) # Calibration, moving imgpoints towards the coordinate\n",
    "        dst = cv2.undistort(img, mtx, dist, None, mtx)\n",
    "\n",
    "        f, (ax1, ax2) = plt.subplots(1, 2, figsize=(20,10))\n",
    "        ax1.imshow(img)\n",
    "        ax1.set_title('Original Image', fontsize=30)\n",
    "        ax2.imshow(dst)\n",
    "        ax2.set_title('Undistorted Image', fontsize=30)\n",
    "        combined_binary = gradient(dst)\n",
    "        warped,M = warp(combined_binary)\n",
    "        result,left_fitx,right_fitx,ploty,left_fit,right_fit = fit1(warped,left_fit,right_fit)\n",
    "        final = unwarp(result,img,left_fitx,right_fitx,ploty,M)\n",
    "        count = count + 1\n",
    "        return final"
   ]
  }
 ],
 "metadata": {
  "kernelspec": {
   "display_name": "Python 3",
   "language": "python",
   "name": "python3"
  },
  "language_info": {
   "codemirror_mode": {
    "name": "ipython",
    "version": 3
   },
   "file_extension": ".py",
   "mimetype": "text/x-python",
   "name": "python",
   "nbconvert_exporter": "python",
   "pygments_lexer": "ipython3",
   "version": "3.5.2"
  },
  "widgets": {
   "state": {},
   "version": "1.1.2"
  }
 },
 "nbformat": 4,
 "nbformat_minor": 2
}
