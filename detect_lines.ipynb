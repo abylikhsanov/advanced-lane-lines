{
 "cells": [
  {
   "cell_type": "code",
   "execution_count": 1,
   "metadata": {
    "collapsed": true
   },
   "outputs": [],
   "source": [
    "import numpy as np\n",
    "import cv2\n",
    "import matplotlib.pyplot as plt\n",
    "import glob"
   ]
  },
  {
   "cell_type": "code",
   "execution_count": 2,
   "metadata": {
    "collapsed": true
   },
   "outputs": [],
   "source": [
    "def calibrate():\n",
    "    objp = np.zeros((6*9,3), np.float32) \n",
    "    objp[:,:2] = np.mgrid[0:9, 0:6].T.reshape(-1,2)\n",
    "\n",
    "    # Arrays to store object points and image points from all the images.\n",
    "    objpoints = [] # 3d points in real world space\n",
    "    imgpoints = [] # 2d points in image plane.\n",
    "\n",
    "    # Make a list of calibration images\n",
    "    images = glob.glob('/Users/abylikhsanov1/AI/carnd/term1/advanced-lane-lines/camera_cal/calibration*.jpg')\n",
    "    for image in images:\n",
    "        img = cv2.imread(image)\n",
    "        gray = cv2.cvtColor(img,cv2.COLOR_BGR2GRAY)\n",
    "        ret,corners = cv2.findChessboardCorners(gray,(9,6),None)\n",
    "        if ret is True:\n",
    "            imgpoints.append(corners)\n",
    "            objpoints.append(objp)\n",
    "            cv2.drawChessboardCorners(gray,(9,6),corners,ret)\n",
    "    \n",
    "    img_size = (img.shape[1],img.shape[0])\n",
    "    ret, mtx, dist, rvecs, tvecs = cv2.calibrateCamera(objpoints, imgpoints,img_size,None,None)\n",
    "    return mtx,dist\n",
    "        "
   ]
  },
  {
   "cell_type": "code",
   "execution_count": 83,
   "metadata": {
    "collapsed": true
   },
   "outputs": [],
   "source": [
    "def process_image(img):\n",
    "    %matplotlib inline\n",
    "    global mtx\n",
    "    global dist\n",
    "    undistorted = cv2.undistort(img,mtx,dist,None,mtx)\n",
    "    masked_image = threshold(undistorted)\n",
    "    warped,M_inv = warp(masked_image)\n",
    "    result,left_fitx,right_fitx,string = fit(warped)\n",
    "    final = unwarp(result,left_fitx,right_fitx,M_inv,undistorted,string)\n",
    "    return final\n",
    "    \n"
   ]
  },
  {
   "cell_type": "code",
   "execution_count": 4,
   "metadata": {
    "collapsed": true
   },
   "outputs": [],
   "source": [
    "def sobel(img,orient='x',ksize=3,thresh=(0,255)):\n",
    "    if orient is 'x':\n",
    "        sobelx = cv2.Sobel(img,cv2.CV_64F,1,0,ksize=ksize)\n",
    "    elif orient is 'y':\n",
    "        sobelx = cv2.Sobel(img,cv2.CV_64F,0,1,ksize=ksize)\n",
    "    sobel_abs = np.absolute(sobelx)\n",
    "    sobel_binary = np.uint8(255*sobel_abs/np.max(sobel_abs))\n",
    "    empty = np.zeros_like(sobel_binary)\n",
    "    empty[(sobel_binary >= thresh[0]) & (sobel_binary <= thresh[1])] = 1\n",
    "    return empty\n",
    "\n",
    "def magnitude(img,ksize=3,thresh=(0,255)):\n",
    "    sobelx = cv2.Sobel(img,cv2.CV_64F,1,0,ksize=ksize)\n",
    "    sobely = cv2.Sobel(img,cv2.CV_64F,0,1,ksize=ksize)\n",
    "    sobel_abs = np.absolute(sobelx+sobely)\n",
    "    sobel_bin = np.uint8(255*sobel_abs/np.max(sobel_abs))\n",
    "    empty = np.zeros_like(sobel_bin)\n",
    "    empty[(sobel_bin >= thresh[0]) & (sobel_bin<= thresh[1])] = 1\n",
    "    return empty\n",
    "\n",
    "def direction(img,ksize=3,thresh=(0,255)):\n",
    "    sobelx = cv2.Sobel(img,cv2.CV_64F,1,0,ksize=ksize)\n",
    "    sobely = cv2.Sobel(img,cv2.CV_64F,0,1,ksize=ksize)\n",
    "    sobel_bin = np.arctan(np.absolute(sobelx),np.absolute(sobely))\n",
    "    empty = np.zeros_like(sobel_bin)\n",
    "    empty[(sobel_bin >= thresh[0]) & (sobel_bin <= thresh[1])] = 1\n",
    "    return empty\n"
   ]
  },
  {
   "cell_type": "code",
   "execution_count": 105,
   "metadata": {
    "collapsed": true
   },
   "outputs": [],
   "source": [
    "def threshold(undistorted):\n",
    "    hls = cv2.cvtColor(undistorted,cv2.COLOR_RGB2HLS)\n",
    "    gray = cv2.cvtColor(undistorted,cv2.COLOR_RGB2GRAY)\n",
    "    luv = cv2.cvtColor(undistorted,cv2.COLOR_RGB2LUV)\n",
    "    l_thresh = (60, 255) #(170,255)\n",
    "    s_thresh=(40, 100) # (8,120)\n",
    "    R_thresh = (210, 255)\n",
    "    G_thresh = (195, 255)\n",
    "\n",
    "\n",
    "    r_mag = sobel(undistorted[:,:,0],ksize=3,thresh=R_thresh)\n",
    "    g_mag = sobel(undistorted[:,:,1],ksize=3,thresh=G_thresh)\n",
    "    s_mag = sobel(hls[:,:,2],ksize=9,thresh=s_thresh)\n",
    "    l_mag = magnitude(hls[:,:,1],ksize=9,thresh=l_thresh)\n",
    "    combined_binary = np.zeros_like(r_mag)\n",
    "    combined_binary[((r_mag==1) & (g_mag==1))|(s_mag==1)|(l_mag==1)] = 1\n",
    "\n",
    "    if len(combined_binary.shape) > 2:\n",
    "        channel_count = combined_binary.shape[2]  # i.e. 3 or 4 depending on your image\n",
    "        ignore_mask_color = (255,) * channel_count\n",
    "    else:\n",
    "        ignore_mask_color = 255\n",
    "        \n",
    "    vertices = np.int32([[[190,700],[570,450],[800,450],[1200,700]]])\n",
    "    mask = np.zeros_like(combined_binary)\n",
    "    cv2.fillPoly(mask, vertices,ignore_mask_color)\n",
    "    masked_image = cv2.bitwise_and(combined_binary, mask)\n",
    "    fig,(ax1) = plt.subplots(1,1,figsize=(10,5))\n",
    "    ax1.imshow(masked_image,cmap='gray')\n",
    "    return masked_image"
   ]
  },
  {
   "cell_type": "code",
   "execution_count": 28,
   "metadata": {
    "collapsed": true
   },
   "outputs": [],
   "source": [
    "def warp(masked_image):\n",
    "    img_size = (masked_image.shape[1],masked_image.shape[0])\n",
    "    offset = 200\n",
    "    x1 = 200\n",
    "    x2 = 1100\n",
    "    src = np.float32([[x1,720], [599,446], [680,446], [x2,720]])\n",
    "    dest = np.float32([[x1+offset,720], [x1+offset,0], [x2-offset,0], [x2-offset,720]])\n",
    "    M = cv2.getPerspectiveTransform(src,dest)\n",
    "    M_inv = cv2.getPerspectiveTransform(dest,src)\n",
    "    warped = cv2.warpPerspective(masked_image,M,img_size)\n",
    "    return warped,M_inv"
   ]
  },
  {
   "cell_type": "code",
   "execution_count": 99,
   "metadata": {
    "collapsed": true
   },
   "outputs": [],
   "source": [
    "def fit(warped):\n",
    "    histogram = np.sum(warped[int(warped.shape[0]/2):,:],axis=0)\n",
    "    out_img = warped\n",
    "    #fig,(ax1) = plt.subplots(1,1,figsize=(10,5))\n",
    "    #ax1.plot(histogram)\n",
    "\n",
    "    #In order to fit the polynomial for the lines, I will divide the image by 2 on x axis, to seperate left and right lanes\n",
    "    midpoint = int(histogram.shape[0]/2)\n",
    "    left_side = np.argmax(histogram[:midpoint]) # Getting the most dense pixel region at x axis, argmax returns the index\n",
    "    right_side = np.argmax(histogram[850:1100]) + midpoint# Getting the most dense pixel region at x axis right side\n",
    "    if(right_side-left_side<500):\n",
    "        right_side = left_side+500\n",
    "    # As the maximum Y value is 720, I will choose to divide it to 9 windows\n",
    "    windows = 9\n",
    "    # Set height of windows\n",
    "    window_height = np.int(warped.shape[0]/windows) # In this code, this is int size of 80 (80 pixels)\n",
    "\n",
    "    # Identify the x and y positions of all nonzero pixels in the image\n",
    "    nonzero = warped.nonzero() # Pixel locations where pixel is 1, [1] = x, [0] = y\n",
    "    nonzeroy = np.array(nonzero[0]) \n",
    "    nonzerox = np.array(nonzero[1])\n",
    "\n",
    "    # Current positions to be updated for each window\n",
    "    leftx_current = left_side \n",
    "    rightx_current = right_side\n",
    "\n",
    "    # Set the width of the windows +/- margin\n",
    "    margin = 100\n",
    "    # Set minimum number of pixels found to recenter window\n",
    "    minpix = 50\n",
    "    # Create empty lists to receive left and right lane pixel indices\n",
    "    left_lane_inds = []\n",
    "    right_lane_inds = []\n",
    "\n",
    "    # Step through the windows one by one\n",
    "    for window in range(windows): # Looping in 9 steps\n",
    "        # Identify window boundaries in x and y (and right and left)\n",
    "        win_y_low = warped.shape[0] - (window+1)*window_height # Loop 1, 0+1 * 80 = 80 px\n",
    "        win_y_high = warped.shape[0] - window*window_height # Loop 1, 0 px, this is a top value, as y values are from the top to the bottom\n",
    "        win_xleft_low = left_side - margin # Setting the square boundaries, from the current found lane piece\n",
    "        win_xleft_high = left_side + margin\n",
    "        win_xright_low = right_side - margin\n",
    "        win_xright_high = right_side + margin\n",
    "        # Draw the windows on the visualization image\n",
    "        cv2.rectangle(out_img,(win_xleft_low,win_y_low),(win_xleft_high,win_y_high),\n",
    "        (0,255,0), 2) \n",
    "        cv2.rectangle(out_img,(win_xright_low,win_y_low),(win_xright_high,win_y_high),\n",
    "        (0,255,0), 2) \n",
    "        # Identify the nonzero pixels in x and y within the window\n",
    "        left_nzero_values = ((nonzeroy >= win_y_low) & (nonzeroy < win_y_high) & \n",
    "        (nonzerox >= win_xleft_low) &  (nonzerox < win_xleft_high)).nonzero()[0]  # Getting the pixel locations, where pixel>1\n",
    "        right_nzero_values = ((nonzeroy >= win_y_low) & (nonzeroy < win_y_high) & \n",
    "        (nonzerox >= win_xright_low) &  (nonzerox < win_xright_high)).nonzero()[0]\n",
    "        # Append these indices to the lists\n",
    "        left_lane_inds.append(left_nzero_values) # Left_lane_inds is the list of pixel locations in that margin box\n",
    "        right_lane_inds.append(right_nzero_values)\n",
    "        # If you found > minpix pixels, recenter next window on their mean position\n",
    "        if len(left_nzero_values) > minpix:\n",
    "            leftx_current = np.int(np.mean(nonzerox[left_nzero_values])) # Enhance: Try to get the argmax of np.sum of the location\n",
    "        if right_nzero_values.size > minpix:        \n",
    "            rightx_current = np.int(np.mean(nonzerox[right_nzero_values])) # For all the x values with pixels>1, we get the mean of that\n",
    "\n",
    "\n",
    "    # Concatenate the arrays of indices\n",
    "    left_lane_inds = np.concatenate(left_lane_inds)\n",
    "    right_lane_inds = np.concatenate(right_lane_inds)\n",
    "    # Extract left and right line pixel positions\n",
    "    leftx = nonzerox[left_lane_inds] # Get the\n",
    "    lefty = nonzeroy[left_lane_inds] \n",
    "    rightx = nonzerox[right_lane_inds]\n",
    "    righty = nonzeroy[right_lane_inds]\n",
    "    # Fit a second order polynomial to each\n",
    "    left_fit = np.polyfit(lefty, leftx, 2)\n",
    "    right_fit = np.polyfit(righty, rightx, 2)\n",
    "    out_img = np.dstack((warped, warped, warped))*255\n",
    "    window_img = np.zeros_like(out_img) # Getting the blank image to display the curves\n",
    "    # Color in left and right line pixels\n",
    "    out_img[nonzeroy[left_lane_inds], nonzerox[left_lane_inds]] = [255, 0, 0]\n",
    "    out_img[nonzeroy[right_lane_inds], nonzerox[right_lane_inds]] = [0, 0, 255]\n",
    "    ploty = np.linspace(0, warped.shape[0]-1, warped.shape[0]) # All the y values\n",
    "    left_fitx = left_fit[0]*ploty**2 + left_fit[1]*ploty + left_fit[2]\n",
    "    right_fitx = right_fit[0]*ploty**2 + right_fit[1]*ploty + right_fit[2]\n",
    "\n",
    "    # Generate a polygon to illustrate the search window area\n",
    "    # And recast the x and y points into usable format for cv2.fillPoly()\n",
    "    left_line_window1 = np.array([np.transpose(np.vstack([left_fitx, ploty]))])\n",
    "    left_line_window2 = np.array([np.flipud(np.transpose(np.vstack([left_fitx+(right_fitx-left_fitx),ploty])))])\n",
    "    left_line_pts = np.hstack((left_line_window1, left_line_window2))\n",
    "    \n",
    "    # Measuring the curve radius\n",
    "    ploty = np.linspace(0, 719, num=720)# to cover same y-range as image\n",
    "    quadratic_coeff = 3e-4\n",
    "    left_fit_try = np.polyfit(lefty, leftx, 2)\n",
    "    right_fit_try = np.polyfit(righty, rightx, 2)\n",
    "    leftx = np.array([200 + (y**2)*quadratic_coeff + np.random.randint(-50, high=51) \n",
    "                              for y in ploty])\n",
    "    rightx = np.array([900 + (y**2)*quadratic_coeff + np.random.randint(-50, high=51) \n",
    "                                for y in ploty])\n",
    "\n",
    "    leftx = leftx[::-1]  # Reverse to match top-to-bottom in y\n",
    "    rightx = rightx[::-1]  # Reverse to match top-to-bottom in y\n",
    "    # Fit a second order polynomial to pixel positions in each fake lane line\n",
    "    left_fit_c = np.polyfit(ploty, leftx, 2)\n",
    "    left_fitx_c = left_fit_try[0]*ploty**2 + left_fit_try[1]*ploty + left_fit_try[2]\n",
    "    right_fit_c = np.polyfit(ploty, rightx, 2)\n",
    "    right_fitx_c = right_fit_try[0]*ploty**2 + right_fit_try[1]*ploty + right_fit_try[2]\n",
    "\n",
    "    y_eval = np.max(ploty)\n",
    "    ym_per_pix = 30/720 # meters per pixel in y dimension\n",
    "    xm_per_pix = 3.7/700 # meters per pixel in x dimension\n",
    "    \n",
    "# Fit new polynomials to x,y in world space\n",
    "    left_fit_cr = np.polyfit(ploty*ym_per_pix, leftx*xm_per_pix, 2)\n",
    "    right_fit_cr = np.polyfit(ploty*ym_per_pix, rightx*xm_per_pix, 2)\n",
    "# Calculate the new radii of curvature\n",
    "    left_curverad = ((1 + (2*left_fit_cr[0]*y_eval*ym_per_pix + left_fit_cr[1])**2)**1.5) / np.absolute(2*left_fit_cr[0])\n",
    "    right_curverad = ((1 + (2*right_fit_cr[0]*y_eval*ym_per_pix + right_fit_cr[1])**2)**1.5) / np.absolute(2*right_fit_cr[0])\n",
    "\n",
    "    # Draw the lane onto the warped blank image\n",
    "    cv2.fillPoly(window_img, np.int_([left_line_pts]), (0,255, 0))\n",
    "    result = cv2.addWeighted(out_img, 1, window_img, 0.3, 0)\n",
    "    string = str(left_curverad-right_curverad)\n",
    "    #fig,(ax1) = plt.subplots(1,1,figsize=(10,5))\n",
    "    #ax1.imshow(result)\n",
    "    #ax1.plot(left_fitx,ploty,color='yellow')\n",
    "    #ax1.plot(right_fitx,ploty,color='yellow')\n",
    "    return result,left_fitx,right_fitx,string"
   ]
  },
  {
   "cell_type": "code",
   "execution_count": 97,
   "metadata": {
    "collapsed": true
   },
   "outputs": [],
   "source": [
    "def unwarp(result,left_fitx,right_fitx,M_inv,undistorted,string):\n",
    "    warp_zero = np.zeros_like(result)\n",
    "    img_size = (result.shape[1],result.shape[0])\n",
    "    ploty = np.linspace(0, result.shape[0]-1, result.shape[0])\n",
    "    pts_left = np.array([np.transpose(np.vstack([left_fitx, ploty]))])\n",
    "    pts_right = np.array([np.flipud(np.transpose(np.vstack([right_fitx, ploty])))])\n",
    "    pts = np.hstack((pts_left, pts_right))\n",
    "    cv2.fillPoly(warp_zero, np.int_([pts]), (255,0,0))\n",
    "\n",
    "    unwarped = cv2.warpPerspective(result,M_inv,img_size)\n",
    "\n",
    "    newwarp = cv2.warpPerspective(warp_zero, M_inv, (result.shape[1], result.shape[0])) \n",
    "    # Combine the result with the original image\n",
    "    final = cv2.addWeighted(undistorted, 1, newwarp, 0.3, 0)\n",
    "    cv2.putText(final,string,(600,100),cv2.FONT_HERSHEY_SIMPLEX,1,(0,255,0))\n",
    "    return final"
   ]
  },
  {
   "cell_type": "code",
   "execution_count": 9,
   "metadata": {
    "collapsed": true
   },
   "outputs": [],
   "source": [
    "from moviepy.editor import VideoFileClip\n",
    "from IPython.display import HTML"
   ]
  },
  {
   "cell_type": "code",
   "execution_count": 106,
   "metadata": {},
   "outputs": [
    {
     "name": "stdout",
     "output_type": "stream",
     "text": [
      "[MoviePy] >>>> Building video output_videos/project_video1.mp4\n",
      "[MoviePy] Writing video output_videos/project_video1.mp4\n"
     ]
    },
    {
     "name": "stderr",
     "output_type": "stream",
     "text": [
      " 96%|█████████▌| 25/26 [00:05<00:00,  4.51it/s]\n"
     ]
    },
    {
     "name": "stdout",
     "output_type": "stream",
     "text": [
      "[MoviePy] Done.\n",
      "[MoviePy] >>>> Video ready: output_videos/project_video1.mp4 \n",
      "\n",
      "CPU times: user 7.21 s, sys: 1.04 s, total: 8.25 s\n",
      "Wall time: 6.1 s\n"
     ]
    },
    {
     "data": {
      "image/png": "[encoded data removed]",
      "text/plain": [
       "<matplotlib.figure.Figure at 0x24c5a4518>"
      ]
     },
     "metadata": {},
     "output_type": "display_data"
    }
   ],
   "source": [
    "\n",
    "mtx,dist = calibrate()\n",
    "white_output = 'output_videos/project_video1.mp4'\n",
    "clip1 = VideoFileClip(\"project_video.mp4\").subclip(41,42)\n",
    "white_clip = clip1.fl_image(process_image) \n",
    "%time white_clip.write_videofile(white_output, audio=False)"
   ]
  },
  {
   "cell_type": "code",
   "execution_count": null,
   "metadata": {
    "collapsed": true
   },
   "outputs": [],
   "source": []
  }
 ],
 "metadata": {
  "kernelspec": {
   "display_name": "Python 3",
   "language": "python",
   "name": "python3"
  },
  "language_info": {
   "codemirror_mode": {
    "name": "ipython",
    "version": 3
   },
   "file_extension": ".py",
   "mimetype": "text/x-python",
   "name": "python",
   "nbconvert_exporter": "python",
   "pygments_lexer": "ipython3",
   "version": "3.5.2"
  },
  "widgets": {
   "state": {},
   "version": "1.1.2"
  }
 },
 "nbformat": 4,
 "nbformat_minor": 2
}
